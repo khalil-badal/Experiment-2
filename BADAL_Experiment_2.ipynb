{
 "cells": [
  {
   "cell_type": "markdown",
   "id": "3c4ace1d-95b5-486e-bd65-2e1d534e21a7",
   "metadata": {},
   "source": [
    "### 1.) NORMALIZATION PROBLEM: \n",
    "#### Normalization is one of the most basic preprocessing techniques in data analytics which involves centering and scaling process. \n",
    "#### Centering means subtracting the data from the mean and scaling means dividing with its standard deviation.\n",
    "#### In Python, element-wise mean and element-wise standard deviation can be obtained by using .mean() and .std() calls.\n",
    "#### In this problem, create a random 5 x 5 ndarray and store it to variable X. Normalize X. \n",
    "#### Save your normalized ndarray as X_normalized.npy"
   ]
  },
  {
   "cell_type": "code",
   "execution_count": 2,
   "id": "b8dd9c81-18df-4a01-8846-878f08197724",
   "metadata": {},
   "outputs": [],
   "source": [
    "# Start "
   ]
  },
  {
   "cell_type": "code",
   "execution_count": 3,
   "id": "0d062d12-a75e-4cd1-b2db-68b49af1bfd7",
   "metadata": {},
   "outputs": [],
   "source": [
    "# Import the numpy library\n",
    "import numpy as np"
   ]
  },
  {
   "cell_type": "code",
   "execution_count": 4,
   "id": "9427a41c-a529-4073-9c0d-27a6aa9c7446",
   "metadata": {},
   "outputs": [],
   "source": [
    "# Initialize variable X as a randomized 5x5 array\n",
    "X = np.random.rand(5,5)"
   ]
  },
  {
   "cell_type": "code",
   "execution_count": 5,
   "id": "55701a9f-9f9e-4314-b3fd-66fce9f755e6",
   "metadata": {},
   "outputs": [],
   "source": [
    "# Initialize and set X_mean as the mean of X\n",
    "X_mean = X.mean()"
   ]
  },
  {
   "cell_type": "code",
   "execution_count": 6,
   "id": "b791a4cb-91fa-41dc-908d-02e163b80938",
   "metadata": {},
   "outputs": [],
   "source": [
    "# Initializea and set X_std as the standard deviation of X\n",
    "X_std = X.std()"
   ]
  },
  {
   "cell_type": "code",
   "execution_count": 7,
   "id": "7255e359-7314-42fc-b6df-b670b8842eb9",
   "metadata": {},
   "outputs": [],
   "source": [
    "# Perform calculation by setting X_normalized as the Normalized form of X\n",
    "Z = (X - X_mean) / X_std"
   ]
  },
  {
   "cell_type": "code",
   "execution_count": 8,
   "id": "770de42e-c150-4105-a070-30265a4de66d",
   "metadata": {},
   "outputs": [],
   "source": [
    "# Save the normalized array to a .npy file\n",
    "np.save('X_normalized.npy', Z)"
   ]
  },
  {
   "cell_type": "code",
   "execution_count": 9,
   "id": "e1d891fc-fa71-49b6-84cf-d033d4e40d0b",
   "metadata": {},
   "outputs": [
    {
     "data": {
      "text/plain": [
       "array([[ 0.52944356,  0.98545618, -0.36940371,  1.4398994 , -1.96634148],\n",
       "       [-0.58430852, -0.00478097,  0.03862326, -0.72773525,  0.76718097],\n",
       "       [ 1.26238654,  1.12584607,  0.09388502,  1.41272815, -0.82300807],\n",
       "       [ 0.43195715, -0.57263351, -2.17266228,  1.16265639, -1.6973919 ],\n",
       "       [ 0.6922707 , -0.78901339,  0.15244714, -0.18574448, -0.20175698]])"
      ]
     },
     "execution_count": 9,
     "metadata": {},
     "output_type": "execute_result"
    }
   ],
   "source": [
    "# Test if loading the npy file works\n",
    "np.load('X_normalized.npy')"
   ]
  },
  {
   "cell_type": "code",
   "execution_count": 10,
   "id": "891f0d55-2170-466e-8dbc-e464a24a45a8",
   "metadata": {},
   "outputs": [],
   "source": [
    "# End\n"
   ]
  },
  {
   "cell_type": "markdown",
   "id": "678504db-31ec-47a3-a0bb-bf2fa18a50ea",
   "metadata": {},
   "source": [
    "### 2.) DIVISIBLE BY 3 PROBLEM: \n",
    "#### Create a 10 x 10 ndarray which are the squares of the first 100 positive integers.\n",
    "#### From this ndarray, determine all the elements that are divisible by 3. Save the result as div_by_3.npy\n"
   ]
  },
  {
   "cell_type": "code",
   "execution_count": 11,
   "id": "fe23b5e2-6db2-4dee-a1fa-c64d988f74b4",
   "metadata": {},
   "outputs": [],
   "source": [
    "# Start"
   ]
  },
  {
   "cell_type": "code",
   "execution_count": 12,
   "id": "617073a6-0c8f-4870-b273-246e7481b101",
   "metadata": {},
   "outputs": [],
   "source": [
    "# Import the python library numpy\n",
    "import numpy as np"
   ]
  },
  {
   "cell_type": "code",
   "execution_count": 13,
   "id": "c20e472a-563c-4049-addf-ca565ce0b775",
   "metadata": {},
   "outputs": [],
   "source": [
    "# Generate a 10x10 ndarray with squares of the first 100 positive integers\n",
    "A = np.arange(1,101).reshape(10,10)**2"
   ]
  },
  {
   "cell_type": "code",
   "execution_count": 14,
   "id": "760ed94e-9090-49f0-a38b-5dea09ec0222",
   "metadata": {},
   "outputs": [],
   "source": [
    "# Find all elements in the generated array that are divisible by three\n",
    "divisible_by_3 = A[A % 3 == 0]"
   ]
  },
  {
   "cell_type": "code",
   "execution_count": 15,
   "id": "1e4dc456-50fd-4447-8abc-d31c86c8e189",
   "metadata": {},
   "outputs": [],
   "source": [
    "# Save the result to a .npy file\n",
    "np.save('div_by_3.npy', divisible_by_3)"
   ]
  },
  {
   "cell_type": "code",
   "execution_count": 16,
   "id": "15688c12-0fd1-42af-a689-fce55f2c49c8",
   "metadata": {},
   "outputs": [
    {
     "data": {
      "text/plain": [
       "array([   9,   36,   81,  144,  225,  324,  441,  576,  729,  900, 1089,\n",
       "       1296, 1521, 1764, 2025, 2304, 2601, 2916, 3249, 3600, 3969, 4356,\n",
       "       4761, 5184, 5625, 6084, 6561, 7056, 7569, 8100, 8649, 9216, 9801])"
      ]
     },
     "execution_count": 16,
     "metadata": {},
     "output_type": "execute_result"
    }
   ],
   "source": [
    "# Test by loading the saved npy file\n",
    "np.load('div_by_3.npy')"
   ]
  },
  {
   "cell_type": "code",
   "execution_count": 17,
   "id": "707acb76-8167-4dea-bb40-60a54822aabf",
   "metadata": {},
   "outputs": [],
   "source": [
    "# End"
   ]
  }
 ],
 "metadata": {
  "kernelspec": {
   "display_name": "Python 3 (ipykernel)",
   "language": "python",
   "name": "python3"
  },
  "language_info": {
   "codemirror_mode": {
    "name": "ipython",
    "version": 3
   },
   "file_extension": ".py",
   "mimetype": "text/x-python",
   "name": "python",
   "nbconvert_exporter": "python",
   "pygments_lexer": "ipython3",
   "version": "3.12.4"
  }
 },
 "nbformat": 4,
 "nbformat_minor": 5
}
