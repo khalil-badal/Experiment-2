{
 "cells": [
  {
   "cell_type": "markdown",
   "id": "00b2adeb-a16c-4beb-b5eb-36187e982646",
   "metadata": {},
   "source": [
    "### 1.)\n",
    "#### Normalization is one of the most basic preprocessing techniques in data analytics.\n",
    "#### This involves centering and scaling process. \n",
    "#### Centering means subtracting the data from the mean and scaling means dividing with its standard deviation.\n",
    "#### In Python, element-wise mean and element-wise standard deviation can be obtained by using .mean() and .std() calls.\n",
    "#### In this problem, create a random 5 x 5 ndarray and store it to variable X. Normalize X. \n",
    "#### Save your normalized ndarray as X_normalized.npy"
   ]
  },
  {
   "cell_type": "code",
   "execution_count": 34,
   "id": "b8dd9c81-18df-4a01-8846-878f08197724",
   "metadata": {},
   "outputs": [],
   "source": [
    "# Start "
   ]
  },
  {
   "cell_type": "code",
   "execution_count": 35,
   "id": "0d062d12-a75e-4cd1-b2db-68b49af1bfd7",
   "metadata": {},
   "outputs": [],
   "source": [
    "# Import the numpy library\n",
    "import numpy as np"
   ]
  },
  {
   "cell_type": "code",
   "execution_count": 36,
   "id": "9427a41c-a529-4073-9c0d-27a6aa9c7446",
   "metadata": {},
   "outputs": [],
   "source": [
    "# Initialize variable X as a randomized 5x5 array\n",
    "X = np.random.rand(5,5)"
   ]
  },
  {
   "cell_type": "code",
   "execution_count": 37,
   "id": "55701a9f-9f9e-4314-b3fd-66fce9f755e6",
   "metadata": {},
   "outputs": [],
   "source": [
    "# Initialize and set X_mean as the mean of X\n",
    "X_mean = X.mean()"
   ]
  },
  {
   "cell_type": "code",
   "execution_count": 38,
   "id": "b791a4cb-91fa-41dc-908d-02e163b80938",
   "metadata": {},
   "outputs": [],
   "source": [
    "# Initializea and set X_std as the standard deviation of X\n",
    "X_std = X.std()"
   ]
  },
  {
   "cell_type": "code",
   "execution_count": 39,
   "id": "7255e359-7314-42fc-b6df-b670b8842eb9",
   "metadata": {},
   "outputs": [],
   "source": [
    "# Perform calculation by setting X_normalized as the Normalized form of X\n",
    "Z = (X - X_mean) / X_std"
   ]
  },
  {
   "cell_type": "code",
   "execution_count": 40,
   "id": "770de42e-c150-4105-a070-30265a4de66d",
   "metadata": {},
   "outputs": [],
   "source": [
    "# Save the normalized array to a .npy file\n",
    "np.save('X_normalized.npy', Z)"
   ]
  },
  {
   "cell_type": "code",
   "execution_count": 41,
   "id": "e1d891fc-fa71-49b6-84cf-d033d4e40d0b",
   "metadata": {},
   "outputs": [
    {
     "data": {
      "text/plain": [
       "array([[ 1.56877799,  0.98738704, -0.53135139,  0.21075311, -1.05206818],\n",
       "       [-1.41775019,  1.10464449,  1.41267987, -0.92611233, -0.04588795],\n",
       "       [-0.93228634,  1.68750882, -1.23356787, -1.13708373, -0.1077377 ],\n",
       "       [ 0.60094949, -1.34386314,  0.97666103,  1.15715535, -0.80708013],\n",
       "       [ 1.22747226,  0.04846627, -0.13745765, -0.61051449, -0.69969464]])"
      ]
     },
     "execution_count": 41,
     "metadata": {},
     "output_type": "execute_result"
    }
   ],
   "source": [
    "# Test if loading the npy file works\n",
    "np.load('X_normalized.npy')"
   ]
  },
  {
   "cell_type": "code",
   "execution_count": 42,
   "id": "891f0d55-2170-466e-8dbc-e464a24a45a8",
   "metadata": {},
   "outputs": [],
   "source": [
    "# End\n"
   ]
  },
  {
   "cell_type": "code",
   "execution_count": null,
   "id": "7a7e8c84-5bf6-4fc9-b4e5-0561f1a58a58",
   "metadata": {},
   "outputs": [],
   "source": []
  },
  {
   "cell_type": "markdown",
   "id": "18e595a1-ce46-4d13-b6ec-0f6ad7f10070",
   "metadata": {},
   "source": [
    "### 2.)\n",
    "#### Create a 10 x 10 ndarray which are the squares of the first 100 positive integers.\n",
    "#### From this ndarray, determine all the elements that are divisible by 3. Save the result as div_by_3.npy\n"
   ]
  },
  {
   "cell_type": "code",
   "execution_count": 43,
   "id": "fe23b5e2-6db2-4dee-a1fa-c64d988f74b4",
   "metadata": {},
   "outputs": [],
   "source": [
    "# Start"
   ]
  },
  {
   "cell_type": "code",
   "execution_count": 44,
   "id": "617073a6-0c8f-4870-b273-246e7481b101",
   "metadata": {},
   "outputs": [],
   "source": [
    "# Import the python library numpy\n",
    "import numpy as np"
   ]
  },
  {
   "cell_type": "code",
   "execution_count": 45,
   "id": "c20e472a-563c-4049-addf-ca565ce0b775",
   "metadata": {},
   "outputs": [],
   "source": [
    "# Generate a 10x10 ndarray with squares of the first 100 positive integers\n",
    "A = np.arange(1,101).reshape(10,10)**2"
   ]
  },
  {
   "cell_type": "code",
   "execution_count": 46,
   "id": "760ed94e-9090-49f0-a38b-5dea09ec0222",
   "metadata": {},
   "outputs": [],
   "source": [
    "# Find all elements in the generated array that are divisible by three\n",
    "divisible_by_3 = A[A % 3 == 0]"
   ]
  },
  {
   "cell_type": "code",
   "execution_count": 47,
   "id": "1e4dc456-50fd-4447-8abc-d31c86c8e189",
   "metadata": {},
   "outputs": [],
   "source": [
    "# Save the result to a .npy file\n",
    "np.save('div_by_3.npy', divisible_by_3)"
   ]
  },
  {
   "cell_type": "code",
   "execution_count": 48,
   "id": "15688c12-0fd1-42af-a689-fce55f2c49c8",
   "metadata": {},
   "outputs": [
    {
     "data": {
      "text/plain": [
       "array([   9,   36,   81,  144,  225,  324,  441,  576,  729,  900, 1089,\n",
       "       1296, 1521, 1764, 2025, 2304, 2601, 2916, 3249, 3600, 3969, 4356,\n",
       "       4761, 5184, 5625, 6084, 6561, 7056, 7569, 8100, 8649, 9216, 9801])"
      ]
     },
     "execution_count": 48,
     "metadata": {},
     "output_type": "execute_result"
    }
   ],
   "source": [
    "# Test by loading the saved npy file\n",
    "np.load('div_by_3.npy')"
   ]
  },
  {
   "cell_type": "code",
   "execution_count": 49,
   "id": "707acb76-8167-4dea-bb40-60a54822aabf",
   "metadata": {},
   "outputs": [],
   "source": [
    "# End"
   ]
  }
 ],
 "metadata": {
  "kernelspec": {
   "display_name": "Python 3 (ipykernel)",
   "language": "python",
   "name": "python3"
  },
  "language_info": {
   "codemirror_mode": {
    "name": "ipython",
    "version": 3
   },
   "file_extension": ".py",
   "mimetype": "text/x-python",
   "name": "python",
   "nbconvert_exporter": "python",
   "pygments_lexer": "ipython3",
   "version": "3.12.4"
  }
 },
 "nbformat": 4,
 "nbformat_minor": 5
}
